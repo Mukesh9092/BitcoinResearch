{
 "cells": [
  {
   "cell_type": "markdown",
   "metadata": {},
   "source": [
    "# Recurrent Neural Network to Predict Stock Prices\n",
    "\n",
    "https://github.com/kimanalytics/Recurrent-Neural-Network-to-Predict-Stock-Prices\n",
    "\n",
    "http://cs229.stanford.edu/proj2012/BernalFokPidaparthi-FinancialMarketTimeSeriesPredictionwithRecurrentNeural.pdf\n",
    "\n",
    "https://finance.yahoo.com/quote/TSLA/history?p=TSLA"
   ]
  },
  {
   "cell_type": "code",
   "execution_count": 1,
   "metadata": {},
   "outputs": [],
   "source": [
    "!pip install -q matplotlib pandas sklearn"
   ]
  },
  {
   "cell_type": "code",
   "execution_count": 2,
   "metadata": {},
   "outputs": [],
   "source": [
    "import math\n",
    "import pdb # debugger\n",
    "\n",
    "import tensorflow as tf\n",
    "import tensorflow.keras as ks\n",
    "import matplotlib.pyplot as plt\n",
    "import pandas as pd\n",
    "import numpy as np\n",
    "import sklearn as sk\n",
    "from sklearn.preprocessing import MinMaxScaler\n",
    "\n",
    "# Reproducibilty\n",
    "np.random.seed(7)\n",
    "        \n",
    "def get_percentage_index(l, p):\n",
    "    return int(math.floor(len(l) / 100 * p))"
   ]
  },
  {
   "cell_type": "code",
   "execution_count": 3,
   "metadata": {},
   "outputs": [],
   "source": [
    "scaler = MinMaxScaler()\n",
    "model = ks.models.Sequential()\n",
    "model.add(ks.layers.LSTM(units = 4, activation  = 'sigmoid', input_shape = (None, 1)))\n",
    "model.add(ks.layers.Dense(units = 1))\n",
    "model.compile(\n",
    "    optimizer = 'adam',\n",
    "    loss = 'mean_squared_error',\n",
    "    metrics = ['accuracy']\n",
    ")"
   ]
  },
  {
   "cell_type": "code",
   "execution_count": 4,
   "metadata": {},
   "outputs": [],
   "source": [
    "data = pd.read_csv('https://stooq.com/q/d/l/?s=^aex&i=d')\n",
    "data = data[get_percentage_index(data, 50):]"
   ]
  },
  {
   "cell_type": "code",
   "execution_count": 5,
   "metadata": {},
   "outputs": [],
   "source": [
    "data_transformed = data['Close'].values\n",
    "data_transformed = [[x] for x in data_transformed]\n",
    "data_transformed = scaler.fit_transform(data_transformed)"
   ]
  },
  {
   "cell_type": "code",
   "execution_count": 6,
   "metadata": {},
   "outputs": [],
   "source": [
    "training_index = get_percentage_index(data, 20)\n",
    "data_testing = data_transformed[training_index:]\n",
    "data_training = data_transformed[:training_index]\n",
    "data_training_inputs = data_training[0:len(data_training) - 5]\n",
    "data_training_targets = data_training[5:len(data_training)]"
   ]
  },
  {
   "cell_type": "code",
   "execution_count": 7,
   "metadata": {},
   "outputs": [],
   "source": [
    "X = np.reshape(data_training_inputs, (len(data_training_inputs), 1, 1))\n",
    "Y = data_training_targets"
   ]
  },
  {
   "cell_type": "code",
   "execution_count": 8,
   "metadata": {},
   "outputs": [],
   "source": [
    "result_training = model.fit(\n",
    "    X,\n",
    "    Y,\n",
    "    verbose = 0,\n",
    "    batch_size = 50,\n",
    "    epochs = 200\n",
    ")"
   ]
  },
  {
   "cell_type": "code",
   "execution_count": 9,
   "metadata": {
    "scrolled": true
   },
   "outputs": [
    {
     "name": "stdout",
     "output_type": "stream",
     "text": [
      "895/895 [==============================] - 0s 214us/step\n",
      "Scores:\n",
      "\n",
      "acc: 0.11%\n"
     ]
    },
    {
     "data": {
      "image/png": "[encoded data removed]",
      "text/plain": [
       "<Figure size 432x288 with 1 Axes>"
      ]
     },
     "metadata": {
      "needs_background": "light"
     },
     "output_type": "display_data"
    },
    {
     "data": {
      "image/png": "[encoded data removed]",
      "text/plain": [
       "<Figure size 432x288 with 1 Axes>"
      ]
     },
     "metadata": {
      "needs_background": "light"
     },
     "output_type": "display_data"
    }
   ],
   "source": [
    "scores = model.evaluate(X, Y)\n",
    "print(\"Scores:\")\n",
    "print(\"\\n%s: %.2f%%\" % (model.metrics_names[1], scores[1]*100))\n",
    "\n",
    "# pdb.set_trace()\n",
    "\n",
    "# Plot training & validation accuracy values\n",
    "plt.plot(result_training.history['acc'])\n",
    "#plt.plot(result_training.history['val_acc'])\n",
    "plt.title('Model accuracy')\n",
    "plt.ylabel('Accuracy')\n",
    "plt.xlabel('Epoch')\n",
    "plt.legend(['Train', 'Test'], loc='upper left')\n",
    "plt.show()\n",
    "\n",
    "# Plot training & validation loss values\n",
    "plt.plot(result_training.history['loss'])\n",
    "#plt.plot(result_training.history['val_loss'])\n",
    "plt.title('Model loss')\n",
    "plt.ylabel('Loss')\n",
    "plt.xlabel('Epoch')\n",
    "plt.legend(['Train', 'Test'], loc='upper left')\n",
    "plt.show()"
   ]
  },
  {
   "cell_type": "code",
   "execution_count": 10,
   "metadata": {},
   "outputs": [
    {
     "name": "stdout",
     "output_type": "stream",
     "text": [
      "WARNING:tensorflow:This model was compiled with a Keras optimizer (<tensorflow.python.keras.optimizers.Adam object at 0x7f5562289610>) but is being saved in TensorFlow format with `save_weights`. The model's weights will be saved, but unlike with TensorFlow optimizers in the TensorFlow format the optimizer's state will not be saved.\n",
      "\n",
      "Consider using a TensorFlow optimizer from `tf.train`.\n",
      "WARNING:tensorflow:Model was compiled with an optimizer, but the optimizer is not from `tf.train` (e.g. `tf.train.AdagradOptimizer`). Only the serving graph was exported. The train and evaluate graphs were not added to the SavedModel.\n",
      "INFO:tensorflow:Signatures INCLUDED in export for Eval: None\n",
      "INFO:tensorflow:Signatures INCLUDED in export for Classify: None\n",
      "INFO:tensorflow:Signatures INCLUDED in export for Regress: None\n",
      "INFO:tensorflow:Signatures INCLUDED in export for Predict: ['serving_default']\n",
      "INFO:tensorflow:Signatures INCLUDED in export for Train: None\n",
      "INFO:tensorflow:No assets to save.\n",
      "INFO:tensorflow:No assets to write.\n",
      "INFO:tensorflow:SavedModel written to: models/test1/temp-1546473965/saved_model.pb\n"
     ]
    },
    {
     "data": {
      "text/plain": [
       "'models/test1/1546473965'"
      ]
     },
     "execution_count": 10,
     "metadata": {},
     "output_type": "execute_result"
    }
   ],
   "source": [
    "tf.contrib.saved_model.save_keras_model(\n",
    "    model,\n",
    "    \"models/test1\",\n",
    "    custom_objects=None,\n",
    "    as_text=None\n",
    ")"
   ]
  },
  {
   "cell_type": "code",
   "execution_count": null,
   "metadata": {},
   "outputs": [],
   "source": [
    "data_testing_prediction = model.predict(np.reshape(data_testing, (len(data_testing), 1, 1)))"
   ]
  },
  {
   "cell_type": "code",
   "execution_count": null,
   "metadata": {},
   "outputs": [],
   "source": [
    "plot_testing = [x[0] for x in scaler.inverse_transform(data_testing)]\n",
    "plot_prediction = [x[0] for x in scaler.inverse_transform(data_testing_prediction)]\n",
    "\n",
    "# show beginning\n",
    "# plot_testing = plot_testing[0:10]\n",
    "# plot_prediction = plot_prediction[0:10]\n",
    "\n",
    "# show end\n",
    "# plot_testing = plot_testing[len(plot_testing) - 10:]\n",
    "# plot_prediction = plot_prediction[len(plot_prediction) - 10:]\n",
    "\n",
    "plt.plot(plot_testing, color = 'black', label = 'Prices')\n",
    "plt.plot(plot_prediction, color = 'red', label = 'Prediction')\n",
    "plt.title('Prediction')\n",
    "plt.xlabel('Days')\n",
    "plt.ylabel('Price')\n",
    "plt.legend()\n",
    "plt.show()"
   ]
  },
  {
   "cell_type": "code",
   "execution_count": null,
   "metadata": {},
   "outputs": [],
   "source": [
    "table_testing = [x[0] for x in scaler.inverse_transform(data_testing)]\n",
    "table_prediction = [x[0] for x in scaler.inverse_transform(data_testing_prediction)]\n",
    "\n",
    "table = pd.DataFrame(\n",
    "    data = {\n",
    "        'Date': pd.to_datetime(data['Date'], format='%Y-%m-%d'),\n",
    "        'Close': data['Close'],\n",
    "        'Prediction': [None for x in data_training] + plot_prediction\n",
    "    },\n",
    "    columns = ['Date', 'Close', 'Prediction'],\n",
    ")\n",
    "\n",
    "table.set_index(['Date'], inplace=True)\n",
    "\n",
    "table['Difference'] = pd.Series(np.absolute(table['Prediction'] - table['Close'].shift(5)))\n",
    "table['Correctness %'] = pd.Series(100 - table['Difference'] / table['Close'] * 100)\n",
    "\n",
    "with pd.option_context('display.max_rows', None, 'display.max_columns', None):\n",
    "    print(table)"
   ]
  },
  {
   "cell_type": "code",
   "execution_count": null,
   "metadata": {},
   "outputs": [],
   "source": [
    "table.plot()"
   ]
  }
 ],
 "metadata": {
  "kernelspec": {
   "display_name": "Python 2",
   "language": "python",
   "name": "python2"
  },
  "language_info": {
   "codemirror_mode": {
    "name": "ipython",
    "version": 2
   },
   "file_extension": ".py",
   "mimetype": "text/x-python",
   "name": "python",
   "nbconvert_exporter": "python",
   "pygments_lexer": "ipython2",
   "version": "2.7.12"
  }
 },
 "nbformat": 4,
 "nbformat_minor": 2
}
